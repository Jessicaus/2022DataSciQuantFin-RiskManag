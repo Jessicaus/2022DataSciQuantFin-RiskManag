{
 "cells": [
  {
   "cell_type": "markdown",
   "metadata": {},
   "source": [
    "<h1 style=\"color:Green;\">Week 4 Lab - due by 31st July, 2022 (11:59 pm CDT )</h1> "
   ]
  },
  {
   "cell_type": "markdown",
   "metadata": {},
   "source": [
    "<a style=\"color:purple;\" href=\"https://docs.google.com/presentation/d/1_jQKSrS4hiVJaxnFYhRh284AhAbPxI0CL0qAP4Iz-DE/edit#slide=id.p\">[Week 4 Lecture Link Here]</a>"
   ]
  },
  {
   "cell_type": "markdown",
   "metadata": {},
   "source": [
    "<h2 style=\"color:black;\"> Objective: to implement machine learning methods and models on classification problems</h2> "
   ]
  },
  {
   "cell_type": "markdown",
   "metadata": {},
   "source": [
    "<h2 style=\"color:Green;\">Setup and Loading Packages</h2> Setup and Loading Packages"
   ]
  },
  {
   "cell_type": "code",
   "execution_count": 1,
   "metadata": {
    "ExecuteTime": {
     "end_time": "2021-04-16T00:08:32.172640Z",
     "start_time": "2021-04-16T00:08:31.635143Z"
    }
   },
   "outputs": [],
   "source": [
    "%matplotlib inline\n",
    "\n",
    "import numpy as np\n",
    "import pandas as pd\n",
    "\n",
    "import matplotlib.pyplot as plt\n",
    "import seaborn as sns\n",
    "\n",
    "from sklearn.preprocessing import LabelEncoder\n",
    "from sklearn.preprocessing import scale\n",
    "from sklearn.model_selection import train_test_split, cross_val_score, GridSearchCV, StratifiedKFold\n",
    "from sklearn.metrics import mean_squared_error, plot_confusion_matrix, f1_score, classification_report, roc_curve, auc, roc_auc_score\n",
    "from sklearn.multiclass import OneVsRestClassifier\n",
    "\n",
    "from sklearn.preprocessing import StandardScaler\n",
    "from sklearn.datasets import make_multilabel_classification\n",
    "\n",
    "import pandas_datareader as pdr"
   ]
  },
  {
   "cell_type": "markdown",
   "metadata": {},
   "source": [
    "<h2 style=\"color:Green;\">Problem 1: SPY Directional Move</h2><br/>"
   ]
  },
  {
   "cell_type": "markdown",
   "metadata": {},
   "source": [
    "Recall that at the end of the Week 3 lecture, we converted the SPY log return into binary values such that 0 represents a day with negative return and 1 represents a day with positive return. Then, we used the XLK and IYC log returns to predict SPY log return. <br>\n",
    "\n",
    "The first model we implemented was logistic regression. Let's examine other models and compare their performances."
   ]
  },
  {
   "cell_type": "markdown",
   "metadata": {},
   "source": [
    "a) The 'SPY_XLK_IYC.csv' already contained the standardized log return data for SPY, XLK, and IYC from 2018-01-25 to 2022-05-31 (same as the data that fitted our logistic regression on). Also, this data set is already preprocessed, meaning any non-importnat features are dropped, labels are checked to be balanced, and multicollinearity is removed. Please write a function to load the csv file into the etfLogRet variable."
   ]
  },
  {
   "cell_type": "code",
   "execution_count": 2,
   "metadata": {},
   "outputs": [
    {
     "data": {
      "text/html": [
       "<div>\n",
       "<style scoped>\n",
       "    .dataframe tbody tr th:only-of-type {\n",
       "        vertical-align: middle;\n",
       "    }\n",
       "\n",
       "    .dataframe tbody tr th {\n",
       "        vertical-align: top;\n",
       "    }\n",
       "\n",
       "    .dataframe thead th {\n",
       "        text-align: right;\n",
       "    }\n",
       "</style>\n",
       "<table border=\"1\" class=\"dataframe\">\n",
       "  <thead>\n",
       "    <tr style=\"text-align: right;\">\n",
       "      <th></th>\n",
       "      <th>Date</th>\n",
       "      <th>SPY</th>\n",
       "      <th>XLK</th>\n",
       "      <th>IYC</th>\n",
       "    </tr>\n",
       "  </thead>\n",
       "  <tbody>\n",
       "    <tr>\n",
       "      <th>0</th>\n",
       "      <td>1/26/2018</td>\n",
       "      <td>1</td>\n",
       "      <td>0.860039</td>\n",
       "      <td>0.585603</td>\n",
       "    </tr>\n",
       "    <tr>\n",
       "      <th>1</th>\n",
       "      <td>1/29/2018</td>\n",
       "      <td>0</td>\n",
       "      <td>-0.564346</td>\n",
       "      <td>0.036836</td>\n",
       "    </tr>\n",
       "    <tr>\n",
       "      <th>2</th>\n",
       "      <td>1/30/2018</td>\n",
       "      <td>0</td>\n",
       "      <td>-0.560701</td>\n",
       "      <td>-0.499923</td>\n",
       "    </tr>\n",
       "    <tr>\n",
       "      <th>3</th>\n",
       "      <td>1/31/2018</td>\n",
       "      <td>1</td>\n",
       "      <td>0.387492</td>\n",
       "      <td>-0.325022</td>\n",
       "    </tr>\n",
       "    <tr>\n",
       "      <th>4</th>\n",
       "      <td>2/1/2018</td>\n",
       "      <td>0</td>\n",
       "      <td>0.009525</td>\n",
       "      <td>-0.742418</td>\n",
       "    </tr>\n",
       "  </tbody>\n",
       "</table>\n",
       "</div>"
      ],
      "text/plain": [
       "        Date  SPY       XLK       IYC\n",
       "0  1/26/2018    1  0.860039  0.585603\n",
       "1  1/29/2018    0 -0.564346  0.036836\n",
       "2  1/30/2018    0 -0.560701 -0.499923\n",
       "3  1/31/2018    1  0.387492 -0.325022\n",
       "4   2/1/2018    0  0.009525 -0.742418"
      ]
     },
     "execution_count": 2,
     "metadata": {},
     "output_type": "execute_result"
    }
   ],
   "source": [
    "etfLogRet=pd.read_csv('SPY_XLK_IYC.csv')\n",
    "# converting SPY log returns into binary values 1's and 0's\n",
    "etfLogRet['SPY'] = (etfLogRet['SPY'] > 0).astype(int)\n",
    "etfLogRet.head()"
   ]
  },
  {
   "cell_type": "markdown",
   "metadata": {},
   "source": [
    "b) Please split data into 80% training set and 20% testing set."
   ]
  },
  {
   "cell_type": "code",
   "execution_count": 3,
   "metadata": {},
   "outputs": [
    {
     "data": {
      "text/plain": [
       "204     0\n",
       "183     0\n",
       "356     1\n",
       "1013    1\n",
       "272     1\n",
       "Name: SPY, dtype: int32"
      ]
     },
     "execution_count": 3,
     "metadata": {},
     "output_type": "execute_result"
    }
   ],
   "source": [
    "LABEL='SPY'\n",
    "FEATURES=['XLK','IYC']\n",
    "X_train, X_test, y_train, y_test = train_test_split(etfLogRet.loc[:, FEATURES], etfLogRet.loc[:, LABEL], test_size=0.2, random_state=0)\n",
    "y_test.head()"
   ]
  },
  {
   "cell_type": "markdown",
   "metadata": {},
   "source": [
    "c) Please select ONE classification model to fit the training data. Why did you chose this model?"
   ]
  },
  {
   "cell_type": "markdown",
   "metadata": {},
   "source": [
    "I chose Support Vector Machines (SVM)  RBF approach, because there are only up or down and there is relatively a clear margin of separation between them, and the problem only has two independent variables which can generate a kernel that is good enough. Moreover it takes less time to generate a good-enough result."
   ]
  },
  {
   "cell_type": "code",
   "execution_count": 4,
   "metadata": {},
   "outputs": [],
   "source": [
    "from sklearn import svm\n",
    "# build SVC model and choose the Radial Basis Function (RBF) kernel function\n",
    "rbf = svm.SVC(kernel='rbf', gamma=0.5, C=0.1, probability=True).fit(X_train, y_train)\n",
    "# choose the Polynomial kernel function\n",
    "# poly = svm.SVC(kernel='poly', degree=3, C=1, probability=True).fit(X_train, y_train)\n",
    "\n",
    "# predicted SPY Returns\n",
    "rbf_pred_train = rbf.predict(X_train)\n",
    "rbf_pred_test = rbf.predict(X_test)"
   ]
  },
  {
   "cell_type": "markdown",
   "metadata": {},
   "source": [
    "c) Compare the performance of the model you chose above with that of the logistic regression applied in Week 3 lecture. Which model performs better and why? (Remark: please output proper metrics to support your claim)"
   ]
  },
  {
   "cell_type": "markdown",
   "metadata": {},
   "source": [
    "Testing Accuracy Score for SVC is better than the Logistic Regression classification; it predicts 89.4% instead of 89.0%\n",
    "\n",
    "F1 score (which measures accuracy) is also slightly better for SVC, as SVC generated the same f1 score for negative returns but 0.91 instead of 0.90 for positive returns\n",
    "\n",
    "SVC has one less false negative and one more true positive identified than logistic regression.\n",
    "\n",
    "The AUC is slightly less than Logistic regression (which is 0.97 instead of 0.967), but other than that SVC is slightly better."
   ]
  },
  {
   "cell_type": "code",
   "execution_count": 5,
   "metadata": {},
   "outputs": [
    {
     "name": "stderr",
     "output_type": "stream",
     "text": [
      "D:\\ProgramData\\Anaconda3\\lib\\site-packages\\sklearn\\utils\\deprecation.py:87: FutureWarning: Function plot_confusion_matrix is deprecated; Function `plot_confusion_matrix` is deprecated in 1.0 and will be removed in 1.2. Use one of the class methods: ConfusionMatrixDisplay.from_predictions or ConfusionMatrixDisplay.from_estimator.\n",
      "  warnings.warn(msg, category=FutureWarning)\n"
     ]
    },
    {
     "name": "stdout",
     "output_type": "stream",
     "text": [
      "              precision    recall  f1-score   support\n",
      "\n",
      "           0       0.90      0.86      0.88        99\n",
      "           1       0.89      0.92      0.91       119\n",
      "\n",
      "    accuracy                           0.89       218\n",
      "   macro avg       0.90      0.89      0.89       218\n",
      "weighted avg       0.89      0.89      0.89       218\n",
      "\n",
      "SVC (RBF Kernel) Training Error = 0.104\n",
      "SVC (RBF Kernel) Testing Error = 0.106\n",
      "SVC (RBF Kernel) Training Accuracy Score = 0.896\n",
      "SVC (RBF Kernel) Testing Accuracy Score = 0.894\n",
      "SVC (RBF Kernel) Classifier: ROC AUC=0.967\n"
     ]
    },
    {
     "data": {
      "image/png": "[encoded data removed]",
      "text/plain": [
       "<Figure size 432x288 with 2 Axes>"
      ]
     },
     "metadata": {
      "needs_background": "light"
     },
     "output_type": "display_data"
    }
   ],
   "source": [
    "plot_confusion_matrix(rbf, X_test, y_test)\n",
    "plt.title(\"SVC (RBF Kernel) Confusion Matrix\")\n",
    "\n",
    "# storing f1 score\n",
    "rbf_f1_score= f1_score(y_test, rbf_pred_test, average='weighted')\n",
    "print(classification_report(y_test, rbf_pred_test))\n",
    "\n",
    "rbf_train_error= np.mean(rbf_pred_train!=y_train)\n",
    "rbf_test_error= np.mean(rbf_pred_test != y_test)\n",
    "print('SVC (RBF Kernel) Training Error = %.3f' % rbf_train_error)\n",
    "print('SVC (RBF Kernel) Testing Error = %.3f' % rbf_test_error)\n",
    "\n",
    "rbf_train_accuracy= rbf.score(X_train,y_train)\n",
    "rbf_test_accuracy= rbf.score(X_test,y_test)\n",
    "print('SVC (RBF Kernel) Training Accuracy Score = %.3f' % rbf_train_accuracy)\n",
    "print('SVC (RBF Kernel) Testing Accuracy Score = %.3f' % rbf_test_accuracy)\n",
    "\n",
    "rbf_pred_test_proba = rbf.predict_proba(X_test)[:, 1]\n",
    "rbf_auc_score = roc_auc_score(y_test, rbf_pred_test_proba, multi_class='ovr')\n",
    "print('SVC (RBF Kernel) Classifier: ROC AUC=%.3f' % rbf_auc_score)"
   ]
  },
  {
   "cell_type": "markdown",
   "metadata": {},
   "source": [
    "<h2 style=\"color:Green;\">Problem 2: Corporate Bond Ratings Prediction</h2><br/>"
   ]
  },
  {
   "cell_type": "markdown",
   "metadata": {},
   "source": [
    "Companies issue bonds, which are debt securities, to raise funds that can be used to invest in the long-term future of the company. A corporate bond is a debt instrument from a company that investors can buy and, in doing so, pay the company the value of the bond upfront, which is called the principal amount. In return, the company pays the investor interest (called a coupon rate) on the bond's principal amount via periodic interest payments. At the bond's maturity date, which is typically in one to five years, the principal is paid back to the investor. Before investors buy a corporate bond, they need to know how financially stable the company that issued the bond is because this implies the ability of the company to pay back the bond obligations. Investors know this by looking at the bond ratings. \n",
    "\n",
    "According to Fitch Ratings,  bond rating of triple-A (AAA) signifies the highest investment grade and means that there is a very low credit risk. \"AA\" represents very high credit quality; \"A\" means high credit quality, and \"BBB\" is a satisfactory credit quality. These ratings are considered to be investment grade, which means that the security or entity being rated carries a high-enough quality level for most financial institutions to make investments in those securities. \"BBB\" is the lowest rating of investment-grade securities, while ratings below \"BBB\", like \"C\" or \"D\" is the lowest or junk quality.  \n",
    "\n",
    "You are the head of Investment Analytics in a hedge fund company. Your subordinates gathered some financial metrics (e.g., current ratio, asset turnover) of 593 companies for you from 1/10/2014 to 9/9/2016. This data set is in the \"corporate_rating.csv\" file. Your goal is to predcit the bond ratings of companies that exhibit different financial properties based on these metric values. \n",
    "\n",
    "<p style=\"color:red;\"> Please do add extra code chunks as needed for this problem. </p>"
   ]
  },
  {
   "cell_type": "markdown",
   "metadata": {},
   "source": [
    "a) Please load in the financial metrics data that your subordinate collects and drop any columns that are irrelevant to the financial metrics. The remaining columns will be your features."
   ]
  },
  {
   "cell_type": "code",
   "execution_count": 6,
   "metadata": {},
   "outputs": [
    {
     "name": "stdout",
     "output_type": "stream",
     "text": [
      "<class 'pandas.core.frame.DataFrame'>\n",
      "RangeIndex: 2029 entries, 0 to 2028\n",
      "Data columns (total 26 columns):\n",
      " #   Column                              Non-Null Count  Dtype  \n",
      "---  ------                              --------------  -----  \n",
      " 0   Rating                              2029 non-null   object \n",
      " 1   currentRatio                        2029 non-null   float64\n",
      " 2   quickRatio                          2029 non-null   float64\n",
      " 3   cashRatio                           2029 non-null   float64\n",
      " 4   daysOfSalesOutstanding              2029 non-null   float64\n",
      " 5   netProfitMargin                     2029 non-null   float64\n",
      " 6   pretaxProfitMargin                  2029 non-null   float64\n",
      " 7   grossProfitMargin                   2029 non-null   float64\n",
      " 8   operatingProfitMargin               2029 non-null   float64\n",
      " 9   returnOnAssets                      2029 non-null   float64\n",
      " 10  returnOnCapitalEmployed             2029 non-null   float64\n",
      " 11  returnOnEquity                      2029 non-null   float64\n",
      " 12  assetTurnover                       2029 non-null   float64\n",
      " 13  fixedAssetTurnover                  2029 non-null   float64\n",
      " 14  debtEquityRatio                     2029 non-null   float64\n",
      " 15  debtRatio                           2029 non-null   float64\n",
      " 16  effectiveTaxRate                    2029 non-null   float64\n",
      " 17  freeCashFlowOperatingCashFlowRatio  2029 non-null   float64\n",
      " 18  freeCashFlowPerShare                2029 non-null   float64\n",
      " 19  cashPerShare                        2029 non-null   float64\n",
      " 20  companyEquityMultiplier             2029 non-null   float64\n",
      " 21  ebitPerRevenue                      2029 non-null   float64\n",
      " 22  enterpriseValueMultiple             2029 non-null   float64\n",
      " 23  operatingCashFlowPerShare           2029 non-null   float64\n",
      " 24  operatingCashFlowSalesRatio         2029 non-null   float64\n",
      " 25  payablesTurnover                    2029 non-null   float64\n",
      "dtypes: float64(25), object(1)\n",
      "memory usage: 412.3+ KB\n"
     ]
    },
    {
     "data": {
      "text/plain": [
       "Index(['currentRatio', 'quickRatio', 'cashRatio', 'daysOfSalesOutstanding',\n",
       "       'netProfitMargin', 'pretaxProfitMargin', 'grossProfitMargin',\n",
       "       'operatingProfitMargin', 'returnOnAssets', 'returnOnCapitalEmployed',\n",
       "       'returnOnEquity', 'assetTurnover', 'fixedAssetTurnover',\n",
       "       'debtEquityRatio', 'debtRatio', 'effectiveTaxRate',\n",
       "       'freeCashFlowOperatingCashFlowRatio', 'freeCashFlowPerShare',\n",
       "       'cashPerShare', 'companyEquityMultiplier', 'ebitPerRevenue',\n",
       "       'enterpriseValueMultiple', 'operatingCashFlowPerShare',\n",
       "       'operatingCashFlowSalesRatio', 'payablesTurnover'],\n",
       "      dtype='object')"
      ]
     },
     "execution_count": 6,
     "metadata": {},
     "output_type": "execute_result"
    }
   ],
   "source": [
    "companyDATA=pd.read_csv('corporate_rating.csv')\n",
    "companyDATA=companyDATA.drop(columns=['Date','Name','Symbol','Rating Agency Name'])\n",
    "companyDATA.info()\n",
    "\n",
    "LABEL='Rating'\n",
    "FEATURES=companyDATA.columns[1:]\n",
    "# Standardizing numerical indicators\n",
    "companyDATA.loc[:, FEATURES] = scale(companyDATA.loc[:, FEATURES]) # standardizing indicators\n",
    "# Encoding Ratings to numerical numbers\n",
    "le = LabelEncoder()\n",
    "le.fit(companyDATA.loc[:, LABEL])\n",
    "companyDATA['Rating'] = le.fit_transform(companyDATA.loc[:, LABEL])\n",
    "le_name_mapping = dict(zip(le.classes_, le.transform(le.classes_)))\n",
    "le_name_mapping\n",
    "FEATURES"
   ]
  },
  {
   "cell_type": "markdown",
   "metadata": {},
   "source": [
    "b) Please identify your explanatory and response variables."
   ]
  },
  {
   "cell_type": "markdown",
   "metadata": {},
   "source": [
    "Explanatory Variables are all the financial features that are left (CurrentRatio, quickRatio, cashRatio, etc., until I decide to remove them as unimportant labels) and response variable is the rating of the company."
   ]
  },
  {
   "cell_type": "markdown",
   "metadata": {},
   "source": [
    "c) Please use Exploratory Data Analysis (EDA) techniques to pre-process the data set. Rememebr to re-define your X_train, X_test, and FEATURES  variables if you decided to drop any of the features.<br><br>\n",
    "(Hint 1: if you use feature importance, please keep variables with scores of at least 0.025) <br>\n",
    "(Hint 2: if you use label imbalance, you can remove observations with labels that exists less than 5% of the time)"
   ]
  },
  {
   "cell_type": "code",
   "execution_count": 7,
   "metadata": {
    "scrolled": true
   },
   "outputs": [
    {
     "data": {
      "text/plain": [
       "[]"
      ]
     },
     "execution_count": 7,
     "metadata": {},
     "output_type": "execute_result"
    },
    {
     "data": {
      "image/png": "[encoded data removed]",
      "text/plain": [
       "<Figure size 432x288 with 1 Axes>"
      ]
     },
     "metadata": {
      "needs_background": "light"
     },
     "output_type": "display_data"
    }
   ],
   "source": [
    "X_train, X_test, y_train, y_test = train_test_split(companyDATA.loc[:, FEATURES], companyDATA.loc[:, LABEL], test_size=0.2, random_state=0)\n",
    "\n",
    "# Feature Importance\n",
    "from sklearn.ensemble import RandomForestClassifier # importing the random forest module\n",
    "rf_model = RandomForestClassifier(random_state=0) # define the random forest model\n",
    "rf_model.fit(X_train, y_train) # fit the random forest model\n",
    "importances = rf_model.feature_importances_ # get importance\n",
    "indices = np.argsort(importances) # sort the features' index by their importance scores\n",
    "\n",
    "plt.title('Feature Importances in the Random Forest Model')\n",
    "plt.barh(range(len(indices)), importances[indices], align='center')\n",
    "plt.yticks(range(len(indices)), [FEATURES[i] for i in indices])\n",
    "plt.xlabel('Relative Importance')\n",
    "\n",
    "FEATURES_TO_DROP=[FEATURES[i] for i in indices[importances[indices] < 0.025]]\n",
    "FEATURES_TO_DROP\n",
    "# none of the features have importance below 0.025"
   ]
  },
  {
   "cell_type": "code",
   "execution_count": 8,
   "metadata": {},
   "outputs": [
    {
     "data": {
      "image/png": "[encoded data removed]",
      "text/plain": [
       "<Figure size 432x288 with 1 Axes>"
      ]
     },
     "metadata": {
      "needs_background": "light"
     },
     "output_type": "display_data"
    }
   ],
   "source": [
    "#counts=companyDATA.loc[:,LABEL].value_counts()\n",
    "\n",
    "#LABELS_TO_DROP=[]\n",
    "#for i in range(len(le_name_mapping)):\n",
    "#    if counts[i]/total < 0.05:\n",
    "#        LABELS_TO_DROP.append(i)\n",
    "\n",
    "ax = sns.countplot(x = \"Rating\", data = companyDATA, color = 'blue')\n",
    "plt.title('Distribution of Ratings')\n",
    "plt.xlabel('Rating')\n",
    "plt.ylabel('Frequency')\n",
    "total = len(companyDATA[\"Rating\"])\n",
    "\n",
    "for p in ax.patches:\n",
    "        percentage = '{:.2f}%'.format(100 * p.get_height()/total)\n",
    "        x_coord = p.get_x() \n",
    "        y_coord = p.get_y() + p.get_height()+0.02\n",
    "        ax.annotate(percentage, (x_coord, y_coord))"
   ]
  },
  {
   "cell_type": "code",
   "execution_count": 9,
   "metadata": {},
   "outputs": [],
   "source": [
    "#LABELS_TO_DROP\n",
    "companyDATA = companyDATA[(companyDATA.Rating==0)|(companyDATA.Rating==3)|(companyDATA.Rating==4)|(companyDATA.Rating==5)]"
   ]
  },
  {
   "cell_type": "code",
   "execution_count": 10,
   "metadata": {},
   "outputs": [],
   "source": [
    "X_train, X_test, y_train, y_test = train_test_split(companyDATA.loc[:, FEATURES], companyDATA.loc[:, LABEL], test_size=0.2, random_state=0)"
   ]
  },
  {
   "cell_type": "markdown",
   "metadata": {},
   "source": [
    "d) Implement at least two classification models to predict the bond ratings based on their financial metrics features, then output their performance results. Why did you choose these methods?"
   ]
  },
  {
   "cell_type": "markdown",
   "metadata": {},
   "source": [
    "I chose Decision trees (using Random Forest) as my first model because random forest reduces overfitting and reduces the variance and thus improves the accuracy of the model. And also because the independent variables are likely correlated, random forest can handle it better than any other models and its multiple trees stabilize the algorithm."
   ]
  },
  {
   "cell_type": "code",
   "execution_count": 11,
   "metadata": {},
   "outputs": [
    {
     "name": "stdout",
     "output_type": "stream",
     "text": [
      "Fitting 3 folds for each of 288 candidates, totalling 864 fits\n"
     ]
    },
    {
     "data": {
      "text/plain": [
       "{'bootstrap': True,\n",
       " 'max_depth': 110,\n",
       " 'max_features': 2,\n",
       " 'min_samples_leaf': 3,\n",
       " 'min_samples_split': 8,\n",
       " 'n_estimators': 100}"
      ]
     },
     "execution_count": 11,
     "metadata": {},
     "output_type": "execute_result"
    }
   ],
   "source": [
    "# Create the parameter grid based on the results of random search \n",
    "# Import Random Forest Model\n",
    "from sklearn.ensemble import RandomForestClassifier\n",
    "param_grid = {\n",
    "    'bootstrap': [True],\n",
    "    'max_depth': [80, 90, 100, 110],\n",
    "    'max_features': [2, 3],\n",
    "    'min_samples_leaf': [3, 4, 5],\n",
    "    'min_samples_split': [8, 10, 12],\n",
    "    'n_estimators': [100, 200, 300, 1000]\n",
    "}\n",
    "# Create a based model\n",
    "rf = RandomForestClassifier()\n",
    "# Instantiate the grid search model\n",
    "grid_search = GridSearchCV(estimator = rf, param_grid = param_grid, cv = 3, n_jobs = -1, verbose = 2)\n",
    "# fit the grid search to the training data\n",
    "grid_search.fit(X_train, y_train)\n",
    "grid_search.best_params_"
   ]
  },
  {
   "cell_type": "code",
   "execution_count": 18,
   "metadata": {},
   "outputs": [],
   "source": [
    "#Create a Random Forest Classifier\n",
    "rf = RandomForestClassifier(bootstrap= True, max_depth= 110, max_features= 2, min_samples_leaf= 3, min_samples_split= 8, n_estimators= 100)\n",
    "#Train the model using the training sets y_pred=clf.predict(X_test)\n",
    "rf.fit(X_train,y_train)\n",
    "\n",
    "# predicted liquidity strengths \n",
    "rf_pred_train = rf.predict(X_train)\n",
    "rf_pred_test = rf.predict(X_test)"
   ]
  },
  {
   "cell_type": "code",
   "execution_count": 19,
   "metadata": {},
   "outputs": [
    {
     "name": "stdout",
     "output_type": "stream",
     "text": [
      "Random Forest Training Error = 0.037\n",
      "Random Forest Testing Error = 0.440\n",
      "Random Forest Training Accuracy Score = 0.963\n",
      "Random Forest Testing Accuracy Score = 0.560\n",
      "              precision    recall  f1-score   support\n",
      "\n",
      "           0       0.76      0.42      0.54        91\n",
      "           3       0.68      0.49      0.57        53\n",
      "           4       0.51      0.46      0.48        94\n",
      "           5       0.51      0.76      0.61       135\n",
      "\n",
      "    accuracy                           0.56       373\n",
      "   macro avg       0.62      0.53      0.55       373\n",
      "weighted avg       0.60      0.56      0.55       373\n",
      "\n",
      "Random Forest Classifier: ROC AUC=0.797\n"
     ]
    },
    {
     "name": "stderr",
     "output_type": "stream",
     "text": [
      "D:\\ProgramData\\Anaconda3\\lib\\site-packages\\sklearn\\utils\\deprecation.py:87: FutureWarning: Function plot_confusion_matrix is deprecated; Function `plot_confusion_matrix` is deprecated in 1.0 and will be removed in 1.2. Use one of the class methods: ConfusionMatrixDisplay.from_predictions or ConfusionMatrixDisplay.from_estimator.\n",
      "  warnings.warn(msg, category=FutureWarning)\n"
     ]
    },
    {
     "data": {
      "image/png": "[encoded data removed]",
      "text/plain": [
       "<Figure size 432x288 with 2 Axes>"
      ]
     },
     "metadata": {
      "needs_background": "light"
     },
     "output_type": "display_data"
    }
   ],
   "source": [
    "plot_confusion_matrix(rf, X_test, y_test)\n",
    "plt.title(\"Random Forest Confusion Matrix\")\n",
    "\n",
    "rf_train_error= np.mean(rf_pred_train!=y_train)\n",
    "rf_test_error= np.mean(rf_pred_test != y_test)\n",
    "print('Random Forest Training Error = %.3f' % rf_train_error)\n",
    "print('Random Forest Testing Error = %.3f' % rf_test_error)\n",
    "\n",
    "rf_train_accuracy= rf.score(X_train,y_train)\n",
    "rf_test_accuracy= rf.score(X_test,y_test)\n",
    "print('Random Forest Training Accuracy Score = %.3f' % rf_train_accuracy)\n",
    "print('Random Forest Testing Accuracy Score = %.3f' % rf_test_accuracy)\n",
    "\n",
    "# storing f1 score\n",
    "rf_f1_score= f1_score(y_test, rf_pred_test, average='weighted')\n",
    "print(classification_report(y_test, rf_pred_test))\n",
    "\n",
    "rf_pred_test_proba = rf.predict_proba(X_test)\n",
    "rf_auc_score = roc_auc_score(y_test, rf_pred_test_proba, multi_class='ovr')\n",
    "print('Random Forest Classifier: ROC AUC=%.3f' % rf_auc_score)"
   ]
  },
  {
   "cell_type": "markdown",
   "metadata": {},
   "source": [
    "I am implementing another Decision tree algorithm except with a different method because both Kth Nearest Neighbor and Support Vector Machines don't do well with high dimensional data, especially like this one in which I have 25 independent variables. <br>\n",
    "This time I am using Boosting because it weights over better and less important classfiers, and also it is less prone to overfitting."
   ]
  },
  {
   "cell_type": "code",
   "execution_count": 14,
   "metadata": {},
   "outputs": [
    {
     "name": "stdout",
     "output_type": "stream",
     "text": [
      "Fitting 3 folds for each of 15 candidates, totalling 45 fits\n"
     ]
    },
    {
     "data": {
      "text/plain": [
       "{'learning_rate': 1, 'n_estimators': 200}"
      ]
     },
     "execution_count": 14,
     "metadata": {},
     "output_type": "execute_result"
    }
   ],
   "source": [
    "from sklearn.ensemble import AdaBoostClassifier\n",
    "# Create the parameter grid based on the results of random search \n",
    "param_grid = {\n",
    "    'n_estimators': [50, 100, 200, 300, 1000],\n",
    "    'learning_rate':[1, 5, 10]\n",
    "}\n",
    "# Create a based model\n",
    "boosting = AdaBoostClassifier()\n",
    "# Instantiate the grid search model\n",
    "grid_search = GridSearchCV(estimator = boosting, param_grid = param_grid, cv = 3, n_jobs = -1, verbose = 2)\n",
    "# fit the grid search to the training data\n",
    "grid_search.fit(X_train, y_train)\n",
    "grid_search.best_params_"
   ]
  },
  {
   "cell_type": "code",
   "execution_count": 15,
   "metadata": {},
   "outputs": [],
   "source": [
    "#Create a Boosting Classifier\n",
    "boosting = AdaBoostClassifier(learning_rate= 1, n_estimators= 200)\n",
    "#Train the model using the training sets y_pred=clf.predict(X_test)\n",
    "boosting.fit(X_train,y_train)\n",
    "\n",
    "# predicted liquidity strengths \n",
    "boosting_pred_train = boosting.predict(X_train)\n",
    "boosting_pred_test = boosting.predict(X_test)"
   ]
  },
  {
   "cell_type": "code",
   "execution_count": 16,
   "metadata": {},
   "outputs": [
    {
     "name": "stderr",
     "output_type": "stream",
     "text": [
      "D:\\ProgramData\\Anaconda3\\lib\\site-packages\\sklearn\\utils\\deprecation.py:87: FutureWarning: Function plot_confusion_matrix is deprecated; Function `plot_confusion_matrix` is deprecated in 1.0 and will be removed in 1.2. Use one of the class methods: ConfusionMatrixDisplay.from_predictions or ConfusionMatrixDisplay.from_estimator.\n",
      "  warnings.warn(msg, category=FutureWarning)\n"
     ]
    },
    {
     "name": "stdout",
     "output_type": "stream",
     "text": [
      "AdaBoost Training Error = 0.481\n",
      "AdaBoost Testing Error = 0.542\n",
      "AdaBoost Training Accuracy Score = 0.519\n",
      "AdaBoost Testing Accuracy Score = 0.458\n",
      "              precision    recall  f1-score   support\n",
      "\n",
      "           0       0.48      0.48      0.48        91\n",
      "           3       0.42      0.47      0.45        53\n",
      "           4       0.46      0.41      0.44        94\n",
      "           5       0.46      0.47      0.46       135\n",
      "\n",
      "    accuracy                           0.46       373\n",
      "   macro avg       0.46      0.46      0.46       373\n",
      "weighted avg       0.46      0.46      0.46       373\n",
      "\n",
      "AdaBoost Classifier: ROC AUC=0.708\n"
     ]
    },
    {
     "data": {
      "image/png": "[encoded data removed]",
      "text/plain": [
       "<Figure size 432x288 with 2 Axes>"
      ]
     },
     "metadata": {
      "needs_background": "light"
     },
     "output_type": "display_data"
    }
   ],
   "source": [
    "plot_confusion_matrix(rf, X_test, y_test)\n",
    "plt.title(\"AdaBoost Confusion Matrix\")\n",
    "\n",
    "\n",
    "boosting_train_error= np.mean(boosting_pred_train!=y_train)\n",
    "boosting_test_error= np.mean(boosting_pred_test != y_test)\n",
    "print('AdaBoost Training Error = %.3f' % boosting_train_error)\n",
    "print('AdaBoost Testing Error = %.3f' % boosting_test_error)\n",
    "\n",
    "boosting_train_accuracy= boosting.score(X_train,y_train)\n",
    "boosting_test_accuracy= boosting.score(X_test,y_test)\n",
    "print('AdaBoost Training Accuracy Score = %.3f' % boosting_train_accuracy)\n",
    "print('AdaBoost Testing Accuracy Score = %.3f' % boosting_test_accuracy)\n",
    "\n",
    "# storing f1 score\n",
    "boosting_f1_score= f1_score(y_test, boosting_pred_test, average='weighted')\n",
    "print(classification_report(y_test, boosting_pred_test))\n",
    "\n",
    "boosting_pred_test_proba = boosting.predict_proba(X_test)\n",
    "boosting_auc_score = roc_auc_score(y_test, boosting_pred_test_proba, multi_class='ovr')\n",
    "print('AdaBoost Classifier: ROC AUC=%.3f' % boosting_auc_score)"
   ]
  },
  {
   "cell_type": "markdown",
   "metadata": {},
   "source": [
    "<p style=\"color:red;\"> Please do add extra code chunks as needed for this problem. </p>"
   ]
  },
  {
   "cell_type": "markdown",
   "metadata": {},
   "source": [
    "e) Compare your models' performance results from above. What can you conclude from this? Which model perform better?"
   ]
  },
  {
   "cell_type": "markdown",
   "metadata": {},
   "source": [
    "Random Forest obviously performs much better than Boosting because it has lower test error, higher test accuracy, higher overall accuracy by the F1 score, and a higher AUC score which allows it to distinguish between classes more correctly than Boosting."
   ]
  },
  {
   "cell_type": "code",
   "execution_count": 20,
   "metadata": {},
   "outputs": [
    {
     "data": {
      "text/html": [
       "<div>\n",
       "<style scoped>\n",
       "    .dataframe tbody tr th:only-of-type {\n",
       "        vertical-align: middle;\n",
       "    }\n",
       "\n",
       "    .dataframe tbody tr th {\n",
       "        vertical-align: top;\n",
       "    }\n",
       "\n",
       "    .dataframe thead th {\n",
       "        text-align: right;\n",
       "    }\n",
       "</style>\n",
       "<table border=\"1\" class=\"dataframe\">\n",
       "  <thead>\n",
       "    <tr style=\"text-align: right;\">\n",
       "      <th></th>\n",
       "      <th>Model</th>\n",
       "      <th>Train Error</th>\n",
       "      <th>Test Error</th>\n",
       "      <th>Train Accuracy</th>\n",
       "      <th>Test Accuracy</th>\n",
       "      <th>F1 Score</th>\n",
       "      <th>AUC Score</th>\n",
       "    </tr>\n",
       "  </thead>\n",
       "  <tbody>\n",
       "    <tr>\n",
       "      <th>0</th>\n",
       "      <td>Random Forest</td>\n",
       "      <td>0.036962</td>\n",
       "      <td>0.439678</td>\n",
       "      <td>0.963038</td>\n",
       "      <td>0.560322</td>\n",
       "      <td>0.554197</td>\n",
       "      <td>0.797186</td>\n",
       "    </tr>\n",
       "    <tr>\n",
       "      <th>1</th>\n",
       "      <td>Boosting</td>\n",
       "      <td>0.481183</td>\n",
       "      <td>0.541555</td>\n",
       "      <td>0.518817</td>\n",
       "      <td>0.458445</td>\n",
       "      <td>0.458225</td>\n",
       "      <td>0.707510</td>\n",
       "    </tr>\n",
       "  </tbody>\n",
       "</table>\n",
       "</div>"
      ],
      "text/plain": [
       "           Model  Train Error  Test Error  Train Accuracy  Test Accuracy  \\\n",
       "0  Random Forest     0.036962    0.439678        0.963038       0.560322   \n",
       "1       Boosting     0.481183    0.541555        0.518817       0.458445   \n",
       "\n",
       "   F1 Score  AUC Score  \n",
       "0  0.554197   0.797186  \n",
       "1  0.458225   0.707510  "
      ]
     },
     "execution_count": 20,
     "metadata": {},
     "output_type": "execute_result"
    }
   ],
   "source": [
    "df = pd.DataFrame(data={\n",
    "         'Model':['Random Forest', 'Boosting'],\n",
    "         'Train Error':[rf_train_error, boosting_train_error],\n",
    "         'Test Error':[rf_test_error, boosting_test_error],\n",
    "         'Train Accuracy':[rf_train_accuracy, boosting_train_accuracy],\n",
    "         'Test Accuracy':[rf_test_accuracy, boosting_test_accuracy],\n",
    "         'F1 Score':[rf_f1_score, boosting_f1_score],\n",
    "         'AUC Score':[rf_auc_score, boosting_auc_score]})\n",
    "df"
   ]
  },
  {
   "cell_type": "markdown",
   "metadata": {},
   "source": [
    "f) How do you think bond ratings can affect stock prices?"
   ]
  },
  {
   "cell_type": "markdown",
   "metadata": {},
   "source": [
    "Bond ratings reflect how professional agencies think about the volatility or risk or return of whatever the company sells. It is a general evaluation of the value of the company. If the rating agencies think that the company's bond is no longer good, it more or less means the company itself isn't worth as much value as it previously think it is. In that way, stock prices also somewhat reflects the investors' speculation of the value of the company. Since the bond ratings are bad, that will also affect how investors view the value of the company, so it makes since if stock prices does correlate positively with the bond ratings."
   ]
  }
 ],
 "metadata": {
  "kernelspec": {
   "display_name": "Python 3 (ipykernel)",
   "language": "python",
   "name": "python3"
  },
  "language_info": {
   "codemirror_mode": {
    "name": "ipython",
    "version": 3
   },
   "file_extension": ".py",
   "mimetype": "text/x-python",
   "name": "python",
   "nbconvert_exporter": "python",
   "pygments_lexer": "ipython3",
   "version": "3.9.12"
  },
  "toc": {
   "base_numbering": 1,
   "nav_menu": {},
   "number_sections": true,
   "sideBar": true,
   "skip_h1_title": true,
   "title_cell": "Table of Contents",
   "title_sidebar": "Contents",
   "toc_cell": false,
   "toc_position": {},
   "toc_section_display": true,
   "toc_window_display": true
  }
 },
 "nbformat": 4,
 "nbformat_minor": 2
}
