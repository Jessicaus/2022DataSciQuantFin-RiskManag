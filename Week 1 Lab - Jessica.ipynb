{
 "cells": [
  {
   "cell_type": "markdown",
   "id": "0d147b87",
   "metadata": {},
   "source": [
    "<h1 style=\"color:Green;\">Week 1 Lab - due by 10th July, 2022 (11:59 pm CDT )</h1> "
   ]
  },
  {
   "cell_type": "markdown",
   "id": "62447f03",
   "metadata": {},
   "source": [
    "<a style=\"color:purple;\" href=\"https://docs.google.com/presentation/d/19UcHoIW3OC2Fd18_VkooiumdG5NtQpu-RoCgfz_I4nM/edit#slide=id.g11b032e97d3_0_0\">[Week 1 Lecture Link Here]</a>"
   ]
  },
  {
   "cell_type": "markdown",
   "id": "26281a02",
   "metadata": {},
   "source": [
    "<h2 style=\"color:black;\"> Objective: to perform Exploratory Data Analysis (EDA) on a multiple-asset portfolio</h2> "
   ]
  },
  {
   "cell_type": "markdown",
   "id": "28f427aa",
   "metadata": {},
   "source": [
    "<h2 style=\"color:Green;\">Setup and Loading Packages</h2> Setup and Loading Packages"
   ]
  },
  {
   "cell_type": "code",
   "execution_count": 1,
   "id": "c576f9f3",
   "metadata": {},
   "outputs": [],
   "source": [
    "%matplotlib inline\n",
    "import numpy as np\n",
    "import pandas as pd\n",
    "from matplotlib import pyplot as plt\n",
    "import seaborn as sns\n",
    "import scipy.stats as stats\n",
    "from datetime import datetime, timedelta\n",
    "from sklearn.preprocessing import scale\n",
    "from sklearn.model_selection import train_test_split\n",
    "from matplotlib.ticker import FuncFormatter\n",
    "import pandas_datareader as pdr"
   ]
  },
  {
   "cell_type": "markdown",
   "id": "7b726ce9",
   "metadata": {},
   "source": [
    "Months following the COVID-19 pandemic recovery, the stock market seems to slow down on its ralley and the cryptocurrency market continues to show volatility. As a quantitative analyst and an investor, you want to understand the empirical behaviors of the assets before building a predictive model and investing in them, since you believe that this can give you a statistical edge in your portfolio. You have several assets in mind and would like to conduct an initial analysis on their historical performances to see if they are a good makeup for your portfolio.<br><br>\n",
    "Please complete the following problems to perform full EDA on your stock selection."
   ]
  },
  {
   "cell_type": "markdown",
   "id": "9c66e838",
   "metadata": {},
   "source": [
    "<h2 style=\"color:Green;\">Problem 1: Preliminary Visualization</h2>"
   ]
  },
  {
   "cell_type": "markdown",
   "id": "b2121999",
   "metadata": {},
   "source": [
    "a) Select 3-5 assets of your preference, then specify their ticker(s), start and end dates of their price data you want to explore.<br><br>\n",
    "Notice that any assets can be selected, and not just stocks. For example, cryptocurrency and foreign exchange instruments can be suggested as well. Some relatively new cryptocurrencies (e.g., Solana, USD Coin) only have complete data dating back to three or four years ago, so setting the duration of data further back than these dates may result in inaccurate representation of their relationships."
   ]
  },
  {
   "cell_type": "code",
   "execution_count": 2,
   "id": "eb06109f",
   "metadata": {},
   "outputs": [],
   "source": [
    "\n",
    "symbolList =  ['GME','TSLA','MRNA','BE','AMZN','JEPI','GOOG'] # asset ticker symbols \n",
    "START_DATE = '2015-07-11' # asset data start date \n",
    "END_DATE = '2022-07-11' # asset data end date\n"
   ]
  },
  {
   "cell_type": "markdown",
   "id": "e8edb29c",
   "metadata": {},
   "source": [
    "Run the following code chunk to extract the adjusted close prices and compute log returns of Apple's stock from Yahoo Finance.<br>\n",
    "<p style=\"color:red;\">PLEASE DO NOT CHANGE THIS CODE !!!</p>"
   ]
  },
  {
   "cell_type": "code",
   "execution_count": 3,
   "id": "129b7cab",
   "metadata": {},
   "outputs": [],
   "source": [
    "stockPxList = pdr.DataReader(symbolList , 'yahoo', START_DATE, END_DATE)['Adj Close'] # retreiving asset price data from yahoo finance\n",
    "# converting prices to log returns and removing NaN values\n",
    "stockLogRetList = np.log(stockPxList).diff().dropna()"
   ]
  },
  {
   "cell_type": "markdown",
   "id": "c415c0f9",
   "metadata": {},
   "source": [
    "b) Please write a code piece to perform 2 visualizaitons on the assets' log returns you extracted from a). <br><br>\n",
    "Since there are at least 3 assets, plots such as time plot, scatter plot, box plot, and histogram would have to be plotted more than once to evaluate each asset."
   ]
  },
  {
   "cell_type": "code",
   "execution_count": 4,
   "id": "6d9a8e40",
   "metadata": {},
   "outputs": [
    {
     "data": {
      "text/plain": [
       "count    537.000000\n",
       "mean       0.006290\n",
       "std        0.113625\n",
       "min       -0.916291\n",
       "25%       -0.034368\n",
       "50%       -0.001699\n",
       "75%        0.034489\n",
       "max        0.853716\n",
       "Name: GME, dtype: float64"
      ]
     },
     "execution_count": 4,
     "metadata": {},
     "output_type": "execute_result"
    }
   ],
   "source": [
    "for name in symbolList:\n",
    "    stockLogRetList[name].describe()\n",
    "stockLogRetList['GME'].describe()"
   ]
  },
  {
   "cell_type": "code",
   "execution_count": 5,
   "id": "968f742a",
   "metadata": {},
   "outputs": [
    {
     "data": {
      "text/plain": [
       "count    537.000000\n",
       "mean       0.002693\n",
       "std        0.041755\n",
       "min       -0.236518\n",
       "25%       -0.020311\n",
       "50%        0.002421\n",
       "75%        0.024935\n",
       "max        0.179327\n",
       "Name: TSLA, dtype: float64"
      ]
     },
     "execution_count": 5,
     "metadata": {},
     "output_type": "execute_result"
    }
   ],
   "source": [
    "stockLogRetList['TSLA'].describe()"
   ]
  },
  {
   "cell_type": "code",
   "execution_count": 6,
   "id": "1fd74c50",
   "metadata": {},
   "outputs": [
    {
     "data": {
      "text/plain": [
       "count    537.000000\n",
       "mean       0.001789\n",
       "std        0.050884\n",
       "min       -0.197163\n",
       "25%       -0.028462\n",
       "50%        0.000334\n",
       "75%        0.031933\n",
       "max        0.187071\n",
       "Name: MRNA, dtype: float64"
      ]
     },
     "execution_count": 6,
     "metadata": {},
     "output_type": "execute_result"
    }
   ],
   "source": [
    "stockLogRetList['MRNA'].describe()"
   ]
  },
  {
   "cell_type": "code",
   "execution_count": 7,
   "id": "ad33f29f",
   "metadata": {},
   "outputs": [
    {
     "data": {
      "text/plain": [
       "count    537.000000\n",
       "mean       0.001513\n",
       "std        0.058531\n",
       "min       -0.226179\n",
       "25%       -0.033999\n",
       "50%       -0.002220\n",
       "75%        0.030143\n",
       "max        0.315884\n",
       "Name: BE, dtype: float64"
      ]
     },
     "execution_count": 7,
     "metadata": {},
     "output_type": "execute_result"
    }
   ],
   "source": [
    "stockLogRetList['BE'].describe()"
   ]
  },
  {
   "cell_type": "code",
   "execution_count": 8,
   "id": "bb87cc60",
   "metadata": {},
   "outputs": [
    {
     "data": {
      "text/plain": [
       "count    537.000000\n",
       "mean      -0.000169\n",
       "std        0.022823\n",
       "min       -0.151398\n",
       "25%       -0.011721\n",
       "50%        0.000537\n",
       "75%        0.011731\n",
       "max        0.126949\n",
       "Name: AMZN, dtype: float64"
      ]
     },
     "execution_count": 8,
     "metadata": {},
     "output_type": "execute_result"
    }
   ],
   "source": [
    "stockLogRetList['AMZN'].describe()"
   ]
  },
  {
   "cell_type": "code",
   "execution_count": 9,
   "id": "c87f8163",
   "metadata": {},
   "outputs": [
    {
     "data": {
      "text/plain": [
       "count    537.000000\n",
       "mean       0.000540\n",
       "std        0.007029\n",
       "min       -0.031983\n",
       "25%       -0.002626\n",
       "50%        0.001055\n",
       "75%        0.004173\n",
       "max        0.022611\n",
       "Name: JEPI, dtype: float64"
      ]
     },
     "execution_count": 9,
     "metadata": {},
     "output_type": "execute_result"
    }
   ],
   "source": [
    "stockLogRetList['JEPI'].describe()"
   ]
  },
  {
   "cell_type": "code",
   "execution_count": 10,
   "id": "2e5da61b",
   "metadata": {},
   "outputs": [
    {
     "data": {
      "text/plain": [
       "count    537.000000\n",
       "mean       0.000945\n",
       "std        0.018310\n",
       "min       -0.058155\n",
       "25%       -0.008138\n",
       "50%        0.002214\n",
       "75%        0.010982\n",
       "max        0.071353\n",
       "Name: GOOG, dtype: float64"
      ]
     },
     "execution_count": 10,
     "metadata": {},
     "output_type": "execute_result"
    }
   ],
   "source": [
    "stockLogRetList['GOOG'].describe()"
   ]
  },
  {
   "cell_type": "code",
   "execution_count": 11,
   "id": "39e95c7b",
   "metadata": {
    "scrolled": true
   },
   "outputs": [
    {
     "data": {
      "text/plain": [
       "Text(0.5, 1.0, 'Correlations Between Stock Log Return')"
      ]
     },
     "execution_count": 11,
     "metadata": {},
     "output_type": "execute_result"
    },
    {
     "data": {
      "image/png": "[encoded data removed]",
      "text/plain": [
       "<Figure size 1080x720 with 2 Axes>"
      ]
     },
     "metadata": {
      "needs_background": "light"
     },
     "output_type": "display_data"
    }
   ],
   "source": [
    "fig, ax = plt.subplots(figsize=(15,10))\n",
    "sns.heatmap(stockLogRetList.corr(),annot=True)\n",
    "plt.title(\"Correlations Between Stock Log Return\")"
   ]
  },
  {
   "cell_type": "code",
   "execution_count": 12,
   "id": "07f77291",
   "metadata": {},
   "outputs": [
    {
     "data": {
      "text/plain": [
       "Text(0, 0.5, 'Density')"
      ]
     },
     "execution_count": 12,
     "metadata": {},
     "output_type": "execute_result"
    },
    {
     "data": {
      "image/png": "[encoded data removed]",
      "text/plain": [
       "<Figure size 432x288 with 1 Axes>"
      ]
     },
     "metadata": {
      "needs_background": "light"
     },
     "output_type": "display_data"
    }
   ],
   "source": [
    "#2 TSLA\n",
    "_, bins, _= plt.hist(stockLogRetList['TSLA'], bins=50, density=1, alpha=0.5)\n",
    "plt.title(\"Histogram of \" + symbolList[1] + \"'s Stock Log Return\")\n",
    "plt.xlabel(\"Log Return\")\n",
    "plt.ylabel(\"Density\")"
   ]
  },
  {
   "cell_type": "code",
   "execution_count": 13,
   "id": "1708da2b",
   "metadata": {},
   "outputs": [
    {
     "data": {
      "text/plain": [
       "Text(0, 0.5, 'Density')"
      ]
     },
     "execution_count": 13,
     "metadata": {},
     "output_type": "execute_result"
    },
    {
     "data": {
      "image/png": "[encoded data removed]",
      "text/plain": [
       "<Figure size 432x288 with 1 Axes>"
      ]
     },
     "metadata": {
      "needs_background": "light"
     },
     "output_type": "display_data"
    }
   ],
   "source": [
    "#2 BE\n",
    "_, bins, _= plt.hist(stockLogRetList['BE'], bins=50, density=1, alpha=0.5)\n",
    "plt.title(\"Histogram of \" + symbolList[3] + \"'s Stock Log Return\")\n",
    "plt.xlabel(\"Log Return\")\n",
    "plt.ylabel(\"Density\")"
   ]
  },
  {
   "cell_type": "code",
   "execution_count": 14,
   "id": "66a2d3af",
   "metadata": {},
   "outputs": [
    {
     "data": {
      "text/plain": [
       "Text(0, 0.5, 'Density')"
      ]
     },
     "execution_count": 14,
     "metadata": {},
     "output_type": "execute_result"
    },
    {
     "data": {
      "image/png": "[encoded data removed]",
      "text/plain": [
       "<Figure size 432x288 with 1 Axes>"
      ]
     },
     "metadata": {
      "needs_background": "light"
     },
     "output_type": "display_data"
    }
   ],
   "source": [
    "# GME\n",
    "_, bins, _= plt.hist(stockLogRetList['GME'], bins=50, density=1, alpha=0.5)\n",
    "plt.title(\"Histogram of \" + symbolList[0] + \"'s Stock Log Return\")\n",
    "plt.xlabel(\"Log Return\")\n",
    "plt.ylabel(\"Density\")"
   ]
  },
  {
   "cell_type": "code",
   "execution_count": 15,
   "id": "4d167d9a",
   "metadata": {},
   "outputs": [
    {
     "data": {
      "text/plain": [
       "Text(0, 0.5, 'Density')"
      ]
     },
     "execution_count": 15,
     "metadata": {},
     "output_type": "execute_result"
    },
    {
     "data": {
      "image/png": "[encoded data removed]",
      "text/plain": [
       "<Figure size 432x288 with 1 Axes>"
      ]
     },
     "metadata": {
      "needs_background": "light"
     },
     "output_type": "display_data"
    }
   ],
   "source": [
    "# GME\n",
    "_, bins, _= plt.hist(stockLogRetList['JEPI'], bins=50, density=1, alpha=0.5)\n",
    "plt.title(\"Histogram of \" + symbolList[5] + \"'s Stock Log Return\")\n",
    "plt.xlabel(\"Log Return\")\n",
    "plt.ylabel(\"Density\")"
   ]
  },
  {
   "cell_type": "markdown",
   "id": "861dc34d",
   "metadata": {},
   "source": [
    "Visualization #1: "
   ]
  },
  {
   "cell_type": "code",
   "execution_count": 16,
   "id": "1d4aa985",
   "metadata": {},
   "outputs": [
    {
     "ename": "KeyError",
     "evalue": "'NFLX'",
     "output_type": "error",
     "traceback": [
      "\u001b[1;31m---------------------------------------------------------------------------\u001b[0m",
      "\u001b[1;31mKeyError\u001b[0m                                  Traceback (most recent call last)",
      "\u001b[1;32mD:\\ProgramData\\Anaconda3\\lib\\site-packages\\pandas\\core\\indexes\\base.py\u001b[0m in \u001b[0;36mget_loc\u001b[1;34m(self, key, method, tolerance)\u001b[0m\n\u001b[0;32m   3620\u001b[0m             \u001b[1;32mtry\u001b[0m\u001b[1;33m:\u001b[0m\u001b[1;33m\u001b[0m\u001b[1;33m\u001b[0m\u001b[0m\n\u001b[1;32m-> 3621\u001b[1;33m                 \u001b[1;32mreturn\u001b[0m \u001b[0mself\u001b[0m\u001b[1;33m.\u001b[0m\u001b[0m_engine\u001b[0m\u001b[1;33m.\u001b[0m\u001b[0mget_loc\u001b[0m\u001b[1;33m(\u001b[0m\u001b[0mcasted_key\u001b[0m\u001b[1;33m)\u001b[0m\u001b[1;33m\u001b[0m\u001b[1;33m\u001b[0m\u001b[0m\n\u001b[0m\u001b[0;32m   3622\u001b[0m             \u001b[1;32mexcept\u001b[0m \u001b[0mKeyError\u001b[0m \u001b[1;32mas\u001b[0m \u001b[0merr\u001b[0m\u001b[1;33m:\u001b[0m\u001b[1;33m\u001b[0m\u001b[1;33m\u001b[0m\u001b[0m\n",
      "\u001b[1;32mD:\\ProgramData\\Anaconda3\\lib\\site-packages\\pandas\\_libs\\index.pyx\u001b[0m in \u001b[0;36mpandas._libs.index.IndexEngine.get_loc\u001b[1;34m()\u001b[0m\n",
      "\u001b[1;32mD:\\ProgramData\\Anaconda3\\lib\\site-packages\\pandas\\_libs\\index.pyx\u001b[0m in \u001b[0;36mpandas._libs.index.IndexEngine.get_loc\u001b[1;34m()\u001b[0m\n",
      "\u001b[1;32mpandas\\_libs\\hashtable_class_helper.pxi\u001b[0m in \u001b[0;36mpandas._libs.hashtable.PyObjectHashTable.get_item\u001b[1;34m()\u001b[0m\n",
      "\u001b[1;32mpandas\\_libs\\hashtable_class_helper.pxi\u001b[0m in \u001b[0;36mpandas._libs.hashtable.PyObjectHashTable.get_item\u001b[1;34m()\u001b[0m\n",
      "\u001b[1;31mKeyError\u001b[0m: 'NFLX'",
      "\nThe above exception was the direct cause of the following exception:\n",
      "\u001b[1;31mKeyError\u001b[0m                                  Traceback (most recent call last)",
      "\u001b[1;32m~\\AppData\\Local\\Temp\\ipykernel_51440\\2127103498.py\u001b[0m in \u001b[0;36m<module>\u001b[1;34m\u001b[0m\n\u001b[0;32m      2\u001b[0m \u001b[1;33m\u001b[0m\u001b[0m\n\u001b[0;32m      3\u001b[0m \u001b[1;31m#1 Netflix\u001b[0m\u001b[1;33m\u001b[0m\u001b[1;33m\u001b[0m\u001b[0m\n\u001b[1;32m----> 4\u001b[1;33m ax = stockLogRetList['NFLX'].plot(figsize=(8, 5),\n\u001b[0m\u001b[0;32m      5\u001b[0m                       title=symbolList[0]+' Daily Log Returns '+ '(' + START_DATE + ' to ' + END_DATE + ')',rot=0)\n\u001b[0;32m      6\u001b[0m \u001b[0max\u001b[0m\u001b[1;33m.\u001b[0m\u001b[0myaxis\u001b[0m\u001b[1;33m.\u001b[0m\u001b[0mset_major_formatter\u001b[0m\u001b[1;33m(\u001b[0m\u001b[0mFuncFormatter\u001b[0m\u001b[1;33m(\u001b[0m\u001b[1;32mlambda\u001b[0m \u001b[0my\u001b[0m\u001b[1;33m,\u001b[0m \u001b[0m_\u001b[0m\u001b[1;33m:\u001b[0m \u001b[1;34m'{:.0%}'\u001b[0m\u001b[1;33m.\u001b[0m\u001b[0mformat\u001b[0m\u001b[1;33m(\u001b[0m\u001b[0my\u001b[0m\u001b[1;33m)\u001b[0m\u001b[1;33m)\u001b[0m\u001b[1;33m)\u001b[0m\u001b[1;33m\u001b[0m\u001b[1;33m\u001b[0m\u001b[0m\n",
      "\u001b[1;32mD:\\ProgramData\\Anaconda3\\lib\\site-packages\\pandas\\core\\frame.py\u001b[0m in \u001b[0;36m__getitem__\u001b[1;34m(self, key)\u001b[0m\n\u001b[0;32m   3503\u001b[0m             \u001b[1;32mif\u001b[0m \u001b[0mself\u001b[0m\u001b[1;33m.\u001b[0m\u001b[0mcolumns\u001b[0m\u001b[1;33m.\u001b[0m\u001b[0mnlevels\u001b[0m \u001b[1;33m>\u001b[0m \u001b[1;36m1\u001b[0m\u001b[1;33m:\u001b[0m\u001b[1;33m\u001b[0m\u001b[1;33m\u001b[0m\u001b[0m\n\u001b[0;32m   3504\u001b[0m                 \u001b[1;32mreturn\u001b[0m \u001b[0mself\u001b[0m\u001b[1;33m.\u001b[0m\u001b[0m_getitem_multilevel\u001b[0m\u001b[1;33m(\u001b[0m\u001b[0mkey\u001b[0m\u001b[1;33m)\u001b[0m\u001b[1;33m\u001b[0m\u001b[1;33m\u001b[0m\u001b[0m\n\u001b[1;32m-> 3505\u001b[1;33m             \u001b[0mindexer\u001b[0m \u001b[1;33m=\u001b[0m \u001b[0mself\u001b[0m\u001b[1;33m.\u001b[0m\u001b[0mcolumns\u001b[0m\u001b[1;33m.\u001b[0m\u001b[0mget_loc\u001b[0m\u001b[1;33m(\u001b[0m\u001b[0mkey\u001b[0m\u001b[1;33m)\u001b[0m\u001b[1;33m\u001b[0m\u001b[1;33m\u001b[0m\u001b[0m\n\u001b[0m\u001b[0;32m   3506\u001b[0m             \u001b[1;32mif\u001b[0m \u001b[0mis_integer\u001b[0m\u001b[1;33m(\u001b[0m\u001b[0mindexer\u001b[0m\u001b[1;33m)\u001b[0m\u001b[1;33m:\u001b[0m\u001b[1;33m\u001b[0m\u001b[1;33m\u001b[0m\u001b[0m\n\u001b[0;32m   3507\u001b[0m                 \u001b[0mindexer\u001b[0m \u001b[1;33m=\u001b[0m \u001b[1;33m[\u001b[0m\u001b[0mindexer\u001b[0m\u001b[1;33m]\u001b[0m\u001b[1;33m\u001b[0m\u001b[1;33m\u001b[0m\u001b[0m\n",
      "\u001b[1;32mD:\\ProgramData\\Anaconda3\\lib\\site-packages\\pandas\\core\\indexes\\base.py\u001b[0m in \u001b[0;36mget_loc\u001b[1;34m(self, key, method, tolerance)\u001b[0m\n\u001b[0;32m   3621\u001b[0m                 \u001b[1;32mreturn\u001b[0m \u001b[0mself\u001b[0m\u001b[1;33m.\u001b[0m\u001b[0m_engine\u001b[0m\u001b[1;33m.\u001b[0m\u001b[0mget_loc\u001b[0m\u001b[1;33m(\u001b[0m\u001b[0mcasted_key\u001b[0m\u001b[1;33m)\u001b[0m\u001b[1;33m\u001b[0m\u001b[1;33m\u001b[0m\u001b[0m\n\u001b[0;32m   3622\u001b[0m             \u001b[1;32mexcept\u001b[0m \u001b[0mKeyError\u001b[0m \u001b[1;32mas\u001b[0m \u001b[0merr\u001b[0m\u001b[1;33m:\u001b[0m\u001b[1;33m\u001b[0m\u001b[1;33m\u001b[0m\u001b[0m\n\u001b[1;32m-> 3623\u001b[1;33m                 \u001b[1;32mraise\u001b[0m \u001b[0mKeyError\u001b[0m\u001b[1;33m(\u001b[0m\u001b[0mkey\u001b[0m\u001b[1;33m)\u001b[0m \u001b[1;32mfrom\u001b[0m \u001b[0merr\u001b[0m\u001b[1;33m\u001b[0m\u001b[1;33m\u001b[0m\u001b[0m\n\u001b[0m\u001b[0;32m   3624\u001b[0m             \u001b[1;32mexcept\u001b[0m \u001b[0mTypeError\u001b[0m\u001b[1;33m:\u001b[0m\u001b[1;33m\u001b[0m\u001b[1;33m\u001b[0m\u001b[0m\n\u001b[0;32m   3625\u001b[0m                 \u001b[1;31m# If we have a listlike key, _check_indexing_error will raise\u001b[0m\u001b[1;33m\u001b[0m\u001b[1;33m\u001b[0m\u001b[0m\n",
      "\u001b[1;31mKeyError\u001b[0m: 'NFLX'"
     ]
    }
   ],
   "source": [
    "## Log returns\n",
    "\n",
    "#1 Netflix\n",
    "ax = stockLogRetList['NFLX'].plot(figsize=(8, 5),\n",
    "                      title=symbolList[0]+' Daily Log Returns '+ '(' + START_DATE + ' to ' + END_DATE + ')',rot=0)\n",
    "ax.yaxis.set_major_formatter(FuncFormatter(lambda y, _: '{:.0%}'.format(y)))\n",
    "sns.despine()\n",
    "plt.tight_layout();\n"
   ]
  },
  {
   "cell_type": "code",
   "execution_count": null,
   "id": "4c40df95",
   "metadata": {},
   "outputs": [],
   "source": [
    "#2 TSLA\n",
    "ax = stockLogRetList['TSLA'].plot(figsize=(8, 5),\n",
    "                      title=symbolList[1]+' Daily Log Returns '+ '(' + START_DATE + ' to ' + END_DATE + ')',rot=0)\n",
    "ax.yaxis.set_major_formatter(FuncFormatter(lambda y, _: '{:.0%}'.format(y)))\n",
    "sns.despine()\n",
    "plt.tight_layout();"
   ]
  },
  {
   "cell_type": "code",
   "execution_count": null,
   "id": "bea6f637",
   "metadata": {},
   "outputs": [],
   "source": [
    "#3 NVDA\n",
    "ax = stockLogRetList['NVDA'].plot(figsize=(8, 5),\n",
    "                      title=symbolList[2]+' Daily Log Returns '+ '(' + START_DATE + ' to ' + END_DATE + ')',rot=0)\n",
    "ax.yaxis.set_major_formatter(FuncFormatter(lambda y, _: '{:.0%}'.format(y)))\n",
    "sns.despine()\n",
    "plt.tight_layout();"
   ]
  },
  {
   "cell_type": "code",
   "execution_count": null,
   "id": "8769b437",
   "metadata": {
    "scrolled": true
   },
   "outputs": [],
   "source": [
    "#4 TWTR\n",
    "ax = stockLogRetList['TWTR'].plot(figsize=(8, 5),\n",
    "                      title=symbolList[3]+' Daily Log Returns '+ '(' + START_DATE + ' to ' + END_DATE + ')',rot=0)\n",
    "ax.yaxis.set_major_formatter(FuncFormatter(lambda y, _: '{:.0%}'.format(y)))\n",
    "sns.despine()\n",
    "plt.tight_layout();"
   ]
  },
  {
   "cell_type": "code",
   "execution_count": null,
   "id": "42ad4d06",
   "metadata": {},
   "outputs": [],
   "source": [
    "#5 Meta\n",
    "ax = stockLogRetList['Meta'].plot(figsize=(8, 5),\n",
    "                      title=symbolList[4]+' Daily Log Returns '+ '(' + START_DATE + ' to ' + END_DATE + ')',rot=0)\n",
    "ax.yaxis.set_major_formatter(FuncFormatter(lambda y, _: '{:.0%}'.format(y)))\n",
    "sns.despine()\n",
    "plt.tight_layout();"
   ]
  },
  {
   "cell_type": "markdown",
   "id": "4e3ae7b0",
   "metadata": {},
   "source": [
    "Visualization #2:"
   ]
  },
  {
   "cell_type": "code",
   "execution_count": null,
   "id": "b9e077e2",
   "metadata": {
    "scrolled": true
   },
   "outputs": [],
   "source": [
    "#1 NFLX\n",
    "_, bins, _= plt.hist(stockLogRetList['NFLX'], bins=50, density=1, alpha=0.5)\n",
    "plt.title(\"Histogram of \" + symbolList[0] + \"'s Stock Log Return\")\n",
    "plt.xlabel(\"Log Return\")\n",
    "plt.ylabel(\"Density\")"
   ]
  },
  {
   "cell_type": "code",
   "execution_count": null,
   "id": "a4b1dbc4",
   "metadata": {},
   "outputs": [],
   "source": [
    "#2 TSLA\n",
    "_, bins, _= plt.hist(stockLogRetList['TSLA'], bins=50, density=1, alpha=0.5)\n",
    "plt.title(\"Histogram of \" + symbolList[1] + \"'s Stock Log Return\")\n",
    "plt.xlabel(\"Log Return\")\n",
    "plt.ylabel(\"Density\")"
   ]
  },
  {
   "cell_type": "code",
   "execution_count": null,
   "id": "500d9d68",
   "metadata": {},
   "outputs": [],
   "source": [
    "#3 NVDA\n",
    "_, bins, _= plt.hist(stockLogRetList['NVDA'], bins=50, density=1, alpha=0.5)\n",
    "plt.title(\"Histogram of \" + symbolList[2] + \"'s Stock Log Return\")\n",
    "plt.xlabel(\"Log Return\")\n",
    "plt.ylabel(\"Density\")"
   ]
  },
  {
   "cell_type": "code",
   "execution_count": null,
   "id": "0195fce4",
   "metadata": {},
   "outputs": [],
   "source": [
    "#4 TWTR\n",
    "_, bins, _= plt.hist(stockLogRetList['TWTR'], bins=50, density=1, alpha=0.5)\n",
    "plt.title(\"Histogram of \" + symbolList[3] + \"'s Stock Log Return\")\n",
    "plt.xlabel(\"Log Return\")\n",
    "plt.ylabel(\"Density\")"
   ]
  },
  {
   "cell_type": "code",
   "execution_count": null,
   "id": "bc7a4b57",
   "metadata": {},
   "outputs": [],
   "source": [
    "#OVERALL\n",
    "fig,((ax0,ax1),(ax2,ax3))=plt.subplots(nrows=2,ncols=2)\n",
    "\n",
    "ax0.hist(stockLogRetList['NFLX'], bins=50, density=1, alpha=0.5)\n",
    "ax0.set_title(\"Histogram of \" + symbolList[0] + \"'s Stock Log Return\")\n",
    "\n",
    "ax1.hist(stockLogRetList['TSLA'], bins=50, density=1, alpha=0.5)\n",
    "ax1.set_title(\"Histogram of \" + symbolList[1] + \"'s Stock Log Return\")\n",
    "\n",
    "ax2.hist(stockLogRetList['NVDA'], bins=50, density=1, alpha=0.5)\n",
    "ax2.set_title(\"Histogram of \" + symbolList[2] + \"'s Stock Log Return\")\n",
    "\n",
    "ax3.hist(stockLogRetList['TWTR'], bins=50, density=1, alpha=0.5)\n",
    "ax3.set_title(\"Histogram of \" + symbolList[3] + \"'s Stock Log Return\")\n",
    "\n",
    "fig.tight_layout()"
   ]
  },
  {
   "cell_type": "markdown",
   "id": "38e33732",
   "metadata": {},
   "source": [
    "c) Interpret the visualizations that you performed above. What can you say about them?"
   ]
  },
  {
   "cell_type": "markdown",
   "id": "dce040aa",
   "metadata": {},
   "source": [
    "Netflix's log returns is centered around 10% to -10% (daily log return graph), only occassionally exceeding out this general limit (around 10 times), but there is one time when drastically decreased 40% (in 2022).\n",
    "Tesla is centured around 15% to -15%, but there is only one time exceeding 20% down.\n",
    "Nvidia is centured around 10% to -10%, and generally stays that way, it only has 3 instances of extending that limit.\n",
    "Twitter is mostly centured around 10% to -10%, but is periodically drops more than 20% or increases more than 20%\n",
    "\n",
    "Of these four Tesla is the one that usually has greater returns / greater losses (as it fluctuates wider and the density is greater on the tails than other stocks I choice)\n",
    "Nvidia should be the more or less stable choice, as it fluctuates low."
   ]
  },
  {
   "cell_type": "markdown",
   "id": "6e2c1970",
   "metadata": {},
   "source": [
    "<h2 style=\"color:Green;\">Problem 2: Preliminary Normality Testing</h2>"
   ]
  },
  {
   "cell_type": "markdown",
   "id": "54641c0a",
   "metadata": {},
   "source": [
    "You realized that within the date range you specified, there may be some days when the assets make big directional swings, hence skewing the data or thickening the probabilities of extreme values. To keep your minds in peace, you decided to perform normality testing to understand how your assets' distribution compare to what's condered 'normal'.<br><br>\n",
    "(e.g., If your date range spans the COVID-19 pandemic, you may see more extreme tail values or outliers in your log returns, which deviates from a normal distribution because the market fluctuates a lot during this time.)<br><br>\n",
    "a) Please write a code piece to perform 1 normality test on the assets' returns you extracted from problem 1."
   ]
  },
  {
   "cell_type": "code",
   "execution_count": null,
   "id": "b1cceb2f",
   "metadata": {},
   "outputs": [],
   "source": [
    "shapiro_test=stats.shapiro(stockLogRetList['TWTR'])\n",
    "shapiro_test.pvalue"
   ]
  },
  {
   "cell_type": "markdown",
   "id": "61af7310",
   "metadata": {},
   "source": [
    "b) Interpret the result you obtained from the normality test you chose in part a). What can you say about it?"
   ]
  },
  {
   "cell_type": "markdown",
   "id": "79ad0b1c",
   "metadata": {},
   "source": [
    "Because the p-value is significantly lower than the usual 0.05 assumed, the null hypothesis (that the log returns of Twitter Stock is from a normal distribution) is rejected. TWTR's log return is not a normal distribution."
   ]
  },
  {
   "cell_type": "markdown",
   "id": "473a63a3",
   "metadata": {},
   "source": [
    "<h2 style=\"color:Green;\">Problem 3: Preliminary Pre-processing </h2>"
   ]
  },
  {
   "cell_type": "markdown",
   "id": "69dbfd95",
   "metadata": {},
   "source": [
    "Imbalanced labels is a classification predictive modeling problem where the distribution of examples across the classes is not equal. For example, we may collect measurements of cats and have 80 samples of one cat species and 20 samples of a second cat species. This represents an example of an imbalanced classification problem. A 50-50 or a near-50-50 sample species would form a balanced classification problem.<br/>\n",
    "\n",
    "As a quantitative analyst, you are curious as to how the list of assets you chose above helps predict the direction of another asset. But before diving into the modeling portion, you want to investigate any label imbalance problems. <br>\n",
    "\n",
    "Please read this blog before jumping into this question: https://machinelearningmastery.com/what-is-imbalanced-classification/"
   ]
  },
  {
   "cell_type": "markdown",
   "id": "caf012d0",
   "metadata": {},
   "source": [
    "a) Specify the ticker of the asset whose direction you are interested in predicting. This stock shall be different than the ones you chose in problem 1."
   ]
  },
  {
   "cell_type": "code",
   "execution_count": null,
   "id": "79ec8e35",
   "metadata": {},
   "outputs": [],
   "source": [
    "SYMBOL = 'META' # asset ticker symbol"
   ]
  },
  {
   "cell_type": "markdown",
   "id": "5829c45f",
   "metadata": {},
   "source": [
    "Run the following code chunk. This will binarize the returns for the asset that you're trying to predict over the period specified above. In other words, the asset's price will be transformed into 0's and 1's - 0 if price did not go up, 1 if price went up. A bar plot is produced to show the label distribution. For instance, there should be one bar showing how many days the stock goes up and another showing how many days the stock goes down.<br/>\n",
    "\n",
    "<p style=\"color:red;\">PLEASE DO NOT CHANGE THIS CODE CHUNK!!!</p>"
   ]
  },
  {
   "cell_type": "raw",
   "id": "75b4630d",
   "metadata": {},
   "source": [
    "FEATURES = symbolList.copy()\n",
    "stockPx = pdr.get_data_yahoo(SYMBOL, START_DATE, END_DATE)['Adj Close'] # storing adjusted stock prices into a variable \n",
    "stockPx01 = (stockPx.pct_change().dropna() > 0).astype(int)\n",
    "# visualize directional label distribution\n",
    "ax = sns.countplot(x = stockPx01)\n",
    "plt.title('Directional (Up=1/Down=0) Distribution')\n",
    "plt.xlabel(SYMBOL + ' Direction')\n",
    "plt.ylabel('Count')\n",
    "total = len(stockPx01)\n",
    "for p in ax.patches:\n",
    "        percentage = '{:.2f}%'.format(100 * p.get_height()/total)\n",
    "        x_coord = p.get_x() \n",
    "        y_coord = p.get_y() + p.get_height()+0.02\n",
    "        ax.annotate(percentage, (x_coord, y_coord))"
   ]
  },
  {
   "cell_type": "code",
   "execution_count": null,
   "id": "23aaaed5",
   "metadata": {},
   "outputs": [],
   "source": [
    "FEATURES = symbolList.copy()\n",
    "stockPx = pdr.get_data_yahoo(SYMBOL, START_DATE, END_DATE)['Adj Close'] # storing adjusted stock prices into a variable \n",
    "stockPx01 = (stockPx.pct_change().dropna() > 0).astype(int)\n",
    "# visualize directional label distribution\n",
    "ax = sns.countplot(x = stockPx01)\n",
    "plt.title('Directional (Up=1/Down=0) Distribution')\n",
    "plt.xlabel(SYMBOL + ' Direction')\n",
    "plt.ylabel('Count')\n",
    "total = len(stockPx01)\n",
    "for p in ax.patches:\n",
    "        percentage = '{:.2f}%'.format(100 * p.get_height()/total)\n",
    "        x_coord = p.get_x() \n",
    "        y_coord = p.get_y() + p.get_height()+0.02\n",
    "        ax.annotate(percentage, (x_coord, y_coord))"
   ]
  },
  {
   "cell_type": "markdown",
   "id": "f52d0c3d",
   "metadata": {},
   "source": [
    "b) Are the lables balanced or imbalanced? Why?<br/>"
   ]
  },
  {
   "cell_type": "markdown",
   "id": "44929dd7",
   "metadata": {},
   "source": [
    "The labels are mostly balanced, with only a slight imbalance, as the ratio of distribution of up and down is 48% : 52%, very close to a balance (50%:50%)."
   ]
  },
  {
   "cell_type": "markdown",
   "id": "88bb57b2",
   "metadata": {},
   "source": [
    "c) How do you think they can affect our prediction? (Hint: think about what the training data will look like)"
   ]
  },
  {
   "cell_type": "markdown",
   "id": "2e5d6aa0",
   "metadata": {},
   "source": [
    "As the algorithm for predictive modeling usually assumes an equal number of each class, an imbalance will cause too few of test cases in one class of the training set, which result in a poor predictive strength of that class."
   ]
  },
  {
   "cell_type": "markdown",
   "id": "0a218c0e",
   "metadata": {},
   "source": [
    "d) Please suggest one way to handle imbalanced data?"
   ]
  },
  {
   "cell_type": "markdown",
   "id": "7f873754",
   "metadata": {},
   "source": [
    "Use SMOTE (Synthetic Minority Over-sampling Technique) to give some data from the majority class to the minority class."
   ]
  },
  {
   "cell_type": "markdown",
   "id": "ea27b9da",
   "metadata": {},
   "source": [
    "e) What is are the features in this problem? "
   ]
  },
  {
   "cell_type": "markdown",
   "id": "eca3de22",
   "metadata": {},
   "source": [
    "The list of assets I choose before (Nvidia,Tesla,Twitter,and Netflix)"
   ]
  },
  {
   "cell_type": "markdown",
   "id": "5cfff944",
   "metadata": {},
   "source": [
    "f) Please write a one-line code to split the data into 80% training set and 20% testing set."
   ]
  },
  {
   "cell_type": "code",
   "execution_count": null,
   "id": "23ff8cd4",
   "metadata": {},
   "outputs": [],
   "source": [
    "X_train,X_test,y_train,y_test=train_test_split(stockPxList[1:],stockPx01,test_size=0.2,random_state=0)"
   ]
  },
  {
   "cell_type": "code",
   "execution_count": null,
   "id": "816b08ef",
   "metadata": {},
   "outputs": [],
   "source": [
    "stockPxList[1:].info()\n",
    "stockPx01.info()"
   ]
  },
  {
   "cell_type": "markdown",
   "id": "67be5e75",
   "metadata": {},
   "source": [
    "g) Please write a code piece to visualize the feature importance ranking of with a bar plot. How are the features ranked by their importance scores?<br><br> \n",
    "(Hint: you would need to split the data first in part e) before computing the importance scores here)"
   ]
  },
  {
   "cell_type": "code",
   "execution_count": null,
   "id": "1a99b397",
   "metadata": {
    "scrolled": true
   },
   "outputs": [],
   "source": [
    "from sklearn.ensemble import RandomForestRegressor\n",
    "rf_model = RandomForestRegressor(random_state=0)\n",
    "rf_model.fit(X_train, y_train)\n",
    "importances=rf_model.feature_importances_\n",
    "indices = np.argsort(importances)\n",
    "\n",
    "plt.title('Feature Importances in the Random Forest Model')\n",
    "plt.barh(range(len(indices)), importances[indices], align='center')\n",
    "plt.yticks(range(len(indices)), [FEATURES[i] for i in indices])\n",
    "plt.xlabel('Relative Importance')"
   ]
  },
  {
   "cell_type": "markdown",
   "id": "c285ac1f",
   "metadata": {},
   "source": [
    "Netflix is most important in predicting whether Meta's stock goes up or down, followed by Tesla, then Twitter, finally Nvidia, which is least important in predicting Meta."
   ]
  }
 ],
 "metadata": {
  "kernelspec": {
   "display_name": "Python 3 (ipykernel)",
   "language": "python",
   "name": "python3"
  },
  "language_info": {
   "codemirror_mode": {
    "name": "ipython",
    "version": 3
   },
   "file_extension": ".py",
   "mimetype": "text/x-python",
   "name": "python",
   "nbconvert_exporter": "python",
   "pygments_lexer": "ipython3",
   "version": "3.9.12"
  }
 },
 "nbformat": 4,
 "nbformat_minor": 5
}
